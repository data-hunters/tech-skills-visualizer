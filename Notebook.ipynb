{
 "cells": [
  {
   "cell_type": "code",
   "execution_count": null,
   "id": "df527411-9ada-4b30-b30a-41570a95d18b",
   "metadata": {},
   "outputs": [],
   "source": [
    "%env GRAPHISTRY_USER=<GRAPHISTRY_USER>\n",
    "%env GRAPHISTRY_PASSWD=<GRAPHISTRY_PASSWD>\n",
    "# OPTIONAL: \n",
    "# %env STACK_API_KEY=<STACKEXCHANGE_API_KEY>"
   ]
  },
  {
   "cell_type": "code",
   "execution_count": null,
   "id": "210e52ba-80e7-44b2-ba71-cc1663fa9c4a",
   "metadata": {},
   "outputs": [],
   "source": [
    "!python -m tsvis.run -t scala -p 5"
   ]
  }
 ],
 "metadata": {
  "kernelspec": {
   "display_name": "Python 3 (ipykernel)",
   "language": "python",
   "name": "python3"
  },
  "language_info": {
   "codemirror_mode": {
    "name": "ipython",
    "version": 3
   },
   "file_extension": ".py",
   "mimetype": "text/x-python",
   "name": "python",
   "nbconvert_exporter": "python",
   "pygments_lexer": "ipython3",
   "version": "3.7.12"
  }
 },
 "nbformat": 4,
 "nbformat_minor": 5
}
