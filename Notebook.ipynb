{
 "cells": [
  {
   "cell_type": "code",
   "execution_count": null,
   "id": "df527411-9ada-4b30-b30a-41570a95d18b",
   "metadata": {},
   "outputs": [],
   "source": [
    "%env GRAPHISTRY_USER=\n",
    "%env GRAPHISTRY_PASSWD="
   ]
  },
  {
   "cell_type": "code",
   "execution_count": null,
   "id": "210e52ba-80e7-44b2-ba71-cc1663fa9c4a",
   "metadata": {},
   "outputs": [],
   "source": [
    "!python -m tsvis.run -t rust -p 5"
   ]
  },
  {
   "cell_type": "code",
   "execution_count": null,
   "id": "b6f77bf9-5a49-4bce-b0d9-bb7e574a81c9",
   "metadata": {},
   "outputs": [],
   "source": []
  }
 ],
 "metadata": {
  "kernelspec": {
   "display_name": "Python 3 (ipykernel)",
   "language": "python",
   "name": "python3"
  },
  "language_info": {
   "codemirror_mode": {
    "name": "ipython",
    "version": 3
   },
   "file_extension": ".py",
   "mimetype": "text/x-python",
   "name": "python",
   "nbconvert_exporter": "python",
   "pygments_lexer": "ipython3",
   "version": "3.7.12"
  }
 },
 "nbformat": 4,
 "nbformat_minor": 5
}
